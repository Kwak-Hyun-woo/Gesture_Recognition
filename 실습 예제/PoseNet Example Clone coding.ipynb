{
 "cells": [
  {
   "cell_type": "markdown",
   "metadata": {},
   "source": [
    "# get_test_images(1)"
   ]
  },
  {
   "cell_type": "code",
   "execution_count": 1,
   "metadata": {},
   "outputs": [],
   "source": [
    "import urllib.request\n",
    "import os\n",
    "import argparse"
   ]
  },
  {
   "cell_type": "code",
   "execution_count": 33,
   "metadata": {},
   "outputs": [
    {
     "name": "stderr",
     "output_type": "stream",
     "text": [
      "usage: ipykernel_launcher.py [-h] [--image_dir IMAGE_DIR]\n",
      "ipykernel_launcher.py: error: unrecognized arguments: -f C:\\Users\\pc\\AppData\\Roaming\\jupyter\\runtime\\kernel-0d6a8bc9-a0b5-4eb7-9a30-90b0fced6889.json\n"
     ]
    },
    {
     "ename": "SystemExit",
     "evalue": "2",
     "output_type": "error",
     "traceback": [
      "An exception has occurred, use %tb to see the full traceback.\n",
      "\u001b[1;31mSystemExit\u001b[0m\u001b[1;31m:\u001b[0m 2\n"
     ]
    }
   ],
   "source": [
    "GOOGLE_CLOUD_IMAGE_BUCKET = 'https://storage.googleapis.com/tfjs-models/assets/posenet/'\n",
    "\n",
    "TEST_IMAGES = [\n",
    "  'frisbee.jpg',\n",
    "  'frisbee_2.jpg',\n",
    "  'backpackman.jpg',\n",
    "  'boy_doughnut.jpg',\n",
    "  'soccer.png',\n",
    "  'with_computer.jpg',\n",
    "  'snowboard.jpg',\n",
    "  'person_bench.jpg',\n",
    "  'skiing.jpg',\n",
    "  'fire_hydrant.jpg',\n",
    "  'kyte.jpg',\n",
    "  'looking_at_computer.jpg',\n",
    "  'tennis.jpg',\n",
    "  'tennis_standing.jpg',\n",
    "  'truck.jpg',\n",
    "  'on_bus.jpg',\n",
    "  'tie_with_beer.jpg',\n",
    "  'baseball.jpg',\n",
    "  'multi_skiing.jpg',\n",
    "  'riding_elephant.jpg',\n",
    "  'skate_park_venice.jpg',\n",
    "  'skate_park.jpg',\n",
    "  'tennis_in_crowd.jpg',\n",
    "  'two_on_bench.jpg',\n",
    "]\n",
    "\n",
    "parser = argparse.ArgumentParser()\n",
    "parser.add_argument('--image_dir', type=str, default='./images')\n",
    "args = parser.parse_args()"
   ]
  },
  {
   "cell_type": "code",
   "execution_count": 34,
   "metadata": {},
   "outputs": [],
   "source": [
    "def main():\n",
    "    if not os.path.exists(args.image_dir):\n",
    "        os.makedirs(args.image_dir)\n",
    "\n",
    "    for f in TEST_IMAGES:\n",
    "        url = os.path.join(GOOGLE_CLOUD_IMAGE_BUCKET, f)\n",
    "        print('Downloading %s' % f)\n",
    "        urllib.request.urlretrieve(url, os.path.join(args.image_dir, f))"
   ]
  },
  {
   "cell_type": "code",
   "execution_count": 35,
   "metadata": {},
   "outputs": [
    {
     "name": "stdout",
     "output_type": "stream",
     "text": [
      "Downloading frisbee.jpg\n",
      "Downloading frisbee_2.jpg\n",
      "Downloading backpackman.jpg\n",
      "Downloading boy_doughnut.jpg\n",
      "Downloading soccer.png\n",
      "Downloading with_computer.jpg\n",
      "Downloading snowboard.jpg\n",
      "Downloading person_bench.jpg\n",
      "Downloading skiing.jpg\n",
      "Downloading fire_hydrant.jpg\n",
      "Downloading kyte.jpg\n",
      "Downloading looking_at_computer.jpg\n",
      "Downloading tennis.jpg\n",
      "Downloading tennis_standing.jpg\n",
      "Downloading truck.jpg\n",
      "Downloading on_bus.jpg\n",
      "Downloading tie_with_beer.jpg\n",
      "Downloading baseball.jpg\n",
      "Downloading multi_skiing.jpg\n",
      "Downloading riding_elephant.jpg\n",
      "Downloading skate_park_venice.jpg\n",
      "Downloading skate_park.jpg\n",
      "Downloading tennis_in_crowd.jpg\n",
      "Downloading two_on_bench.jpg\n"
     ]
    }
   ],
   "source": [
    "if __name__ == \"__main__\":\n",
    "    main()"
   ]
  },
  {
   "cell_type": "markdown",
   "metadata": {},
   "source": [
    "# image_demo"
   ]
  },
  {
   "cell_type": "code",
   "execution_count": 2,
   "metadata": {},
   "outputs": [
    {
     "name": "stderr",
     "output_type": "stream",
     "text": [
      "C:\\Users\\pc\\Anaconda3\\lib\\site-packages\\tensorflow\\python\\framework\\dtypes.py:516: FutureWarning: Passing (type, 1) or '1type' as a synonym of type is deprecated; in a future version of numpy, it will be understood as (type, (1,)) / '(1,)type'.\n",
      "  _np_qint8 = np.dtype([(\"qint8\", np.int8, 1)])\n",
      "C:\\Users\\pc\\Anaconda3\\lib\\site-packages\\tensorflow\\python\\framework\\dtypes.py:517: FutureWarning: Passing (type, 1) or '1type' as a synonym of type is deprecated; in a future version of numpy, it will be understood as (type, (1,)) / '(1,)type'.\n",
      "  _np_quint8 = np.dtype([(\"quint8\", np.uint8, 1)])\n",
      "C:\\Users\\pc\\Anaconda3\\lib\\site-packages\\tensorflow\\python\\framework\\dtypes.py:518: FutureWarning: Passing (type, 1) or '1type' as a synonym of type is deprecated; in a future version of numpy, it will be understood as (type, (1,)) / '(1,)type'.\n",
      "  _np_qint16 = np.dtype([(\"qint16\", np.int16, 1)])\n",
      "C:\\Users\\pc\\Anaconda3\\lib\\site-packages\\tensorflow\\python\\framework\\dtypes.py:519: FutureWarning: Passing (type, 1) or '1type' as a synonym of type is deprecated; in a future version of numpy, it will be understood as (type, (1,)) / '(1,)type'.\n",
      "  _np_quint16 = np.dtype([(\"quint16\", np.uint16, 1)])\n",
      "C:\\Users\\pc\\Anaconda3\\lib\\site-packages\\tensorflow\\python\\framework\\dtypes.py:520: FutureWarning: Passing (type, 1) or '1type' as a synonym of type is deprecated; in a future version of numpy, it will be understood as (type, (1,)) / '(1,)type'.\n",
      "  _np_qint32 = np.dtype([(\"qint32\", np.int32, 1)])\n",
      "C:\\Users\\pc\\Anaconda3\\lib\\site-packages\\tensorflow\\python\\framework\\dtypes.py:525: FutureWarning: Passing (type, 1) or '1type' as a synonym of type is deprecated; in a future version of numpy, it will be understood as (type, (1,)) / '(1,)type'.\n",
      "  np_resource = np.dtype([(\"resource\", np.ubyte, 1)])\n",
      "C:\\Users\\pc\\Anaconda3\\lib\\site-packages\\tensorboard\\compat\\tensorflow_stub\\dtypes.py:541: FutureWarning: Passing (type, 1) or '1type' as a synonym of type is deprecated; in a future version of numpy, it will be understood as (type, (1,)) / '(1,)type'.\n",
      "  _np_qint8 = np.dtype([(\"qint8\", np.int8, 1)])\n",
      "C:\\Users\\pc\\Anaconda3\\lib\\site-packages\\tensorboard\\compat\\tensorflow_stub\\dtypes.py:542: FutureWarning: Passing (type, 1) or '1type' as a synonym of type is deprecated; in a future version of numpy, it will be understood as (type, (1,)) / '(1,)type'.\n",
      "  _np_quint8 = np.dtype([(\"quint8\", np.uint8, 1)])\n",
      "C:\\Users\\pc\\Anaconda3\\lib\\site-packages\\tensorboard\\compat\\tensorflow_stub\\dtypes.py:543: FutureWarning: Passing (type, 1) or '1type' as a synonym of type is deprecated; in a future version of numpy, it will be understood as (type, (1,)) / '(1,)type'.\n",
      "  _np_qint16 = np.dtype([(\"qint16\", np.int16, 1)])\n",
      "C:\\Users\\pc\\Anaconda3\\lib\\site-packages\\tensorboard\\compat\\tensorflow_stub\\dtypes.py:544: FutureWarning: Passing (type, 1) or '1type' as a synonym of type is deprecated; in a future version of numpy, it will be understood as (type, (1,)) / '(1,)type'.\n",
      "  _np_quint16 = np.dtype([(\"quint16\", np.uint16, 1)])\n",
      "C:\\Users\\pc\\Anaconda3\\lib\\site-packages\\tensorboard\\compat\\tensorflow_stub\\dtypes.py:545: FutureWarning: Passing (type, 1) or '1type' as a synonym of type is deprecated; in a future version of numpy, it will be understood as (type, (1,)) / '(1,)type'.\n",
      "  _np_qint32 = np.dtype([(\"qint32\", np.int32, 1)])\n",
      "C:\\Users\\pc\\Anaconda3\\lib\\site-packages\\tensorboard\\compat\\tensorflow_stub\\dtypes.py:550: FutureWarning: Passing (type, 1) or '1type' as a synonym of type is deprecated; in a future version of numpy, it will be understood as (type, (1,)) / '(1,)type'.\n",
      "  np_resource = np.dtype([(\"resource\", np.ubyte, 1)])\n"
     ]
    }
   ],
   "source": [
    "import tensorflow as tf\n",
    "import cv2\n",
    "import time\n",
    "import easydict\n",
    "import os"
   ]
  },
  {
   "cell_type": "code",
   "execution_count": 3,
   "metadata": {},
   "outputs": [],
   "source": [
    "import posenet"
   ]
  },
  {
   "cell_type": "code",
   "execution_count": 8,
   "metadata": {},
   "outputs": [],
   "source": [
    "args = easydict.EasyDict({\n",
    "    \"model\": 101,\n",
    "    \"scale_factor\": 1.0,\n",
    "    \"notxt\": 'store_true',\n",
    "    \"image_dir\": './images',\n",
    "    \"output_dir\": './output'\n",
    "})"
   ]
  },
  {
   "cell_type": "code",
   "execution_count": 9,
   "metadata": {},
   "outputs": [],
   "source": [
    "def main():\n",
    "    with tf.Session() as sess:\n",
    "        model_cfg, model_outputs = posenet.load_model(args.model, sess)\n",
    "        output_stride = model_cfg['output_stride']\n",
    "\n",
    "        if args.output_dir:\n",
    "            if not os.path.exists(args.output_dir):\n",
    "                os.makedirs(args.output_dir)\n",
    "\n",
    "        filenames = [\n",
    "            f.path for f in os.scandir(args.image_dir) if f.is_file() and f.path.endswith(('.png', '.jpg'))]\n",
    "\n",
    "        start = time.time()\n",
    "        for f in filenames:\n",
    "            input_image, draw_image, output_scale = posenet.read_imgfile(\n",
    "                f, scale_factor=args.scale_factor, output_stride=output_stride)\n",
    "\n",
    "            heatmaps_result, offsets_result, displacement_fwd_result, displacement_bwd_result = sess.run(\n",
    "                model_outputs,\n",
    "                feed_dict={'image:0': input_image}\n",
    "            )\n",
    "\n",
    "            pose_scores, keypoint_scores, keypoint_coords = posenet.decode_multiple_poses(\n",
    "                heatmaps_result.squeeze(axis=0),\n",
    "                offsets_result.squeeze(axis=0),\n",
    "                displacement_fwd_result.squeeze(axis=0),\n",
    "                displacement_bwd_result.squeeze(axis=0),\n",
    "                output_stride=output_stride,\n",
    "                max_pose_detections=10,\n",
    "                min_pose_score=0.25)\n",
    "\n",
    "            keypoint_coords *= output_scale\n",
    "\n",
    "            if args.output_dir:\n",
    "                draw_image = posenet.draw_skel_and_kp(\n",
    "                    draw_image, pose_scores, keypoint_scores, keypoint_coords,\n",
    "                    min_pose_score=0.25, min_part_score=0.25)\n",
    "\n",
    "                cv2.imwrite(os.path.join(args.output_dir, os.path.relpath(f, args.image_dir)), draw_image)\n",
    "\n",
    "            if not args.notxt:\n",
    "                print()\n",
    "                print(\"Results for image: %s\" % f)\n",
    "                for pi in range(len(pose_scores)):\n",
    "                    if pose_scores[pi] == 0.:\n",
    "                        break\n",
    "                    print('Pose #%d, score = %f' % (pi, pose_scores[pi]))\n",
    "                    for ki, (s, c) in enumerate(zip(keypoint_scores[pi, :], keypoint_coords[pi, :, :])):\n",
    "                        print('Keypoint %s, score = %f, coord = %s' % (posenet.PART_NAMES[ki], s, c))\n",
    "\n",
    "        print('Average FPS:', len(filenames) / (time.time() - start))"
   ]
  },
  {
   "cell_type": "code",
   "execution_count": 10,
   "metadata": {},
   "outputs": [
    {
     "name": "stdout",
     "output_type": "stream",
     "text": [
      "Average FPS: 2.2841879734837742\n"
     ]
    }
   ],
   "source": [
    "if __name__ == \"__main__\":\n",
    "    main()"
   ]
  },
  {
   "cell_type": "code",
   "execution_count": 11,
   "metadata": {},
   "outputs": [
    {
     "data": {
      "text/plain": [
       "'1.14.0'"
      ]
     },
     "execution_count": 11,
     "metadata": {},
     "output_type": "execute_result"
    }
   ],
   "source": [
    "tf.__version__"
   ]
  },
  {
   "cell_type": "markdown",
   "metadata": {},
   "source": [
    "# benchmark"
   ]
  },
  {
   "cell_type": "code",
   "execution_count": 12,
   "metadata": {},
   "outputs": [],
   "source": [
    "import tensorflow as tf\n",
    "import time\n",
    "import easydict\n",
    "import os"
   ]
  },
  {
   "cell_type": "code",
   "execution_count": 13,
   "metadata": {},
   "outputs": [],
   "source": [
    "import posenet"
   ]
  },
  {
   "cell_type": "code",
   "execution_count": 14,
   "metadata": {},
   "outputs": [],
   "source": [
    "args = easydict.EasyDict({\n",
    "    \"model\":101,\n",
    "    \"image_dir\":\"./images\",\n",
    "    \"num_images\":1000\n",
    "})"
   ]
  },
  {
   "cell_type": "code",
   "execution_count": 15,
   "metadata": {},
   "outputs": [],
   "source": [
    "def main():\n",
    "\n",
    "    with tf.Session() as sess:\n",
    "        model_cfg, model_outputs = posenet.load_model(args.model, sess)\n",
    "        output_stride = model_cfg['output_stride']\n",
    "        num_images = args.num_images\n",
    "\n",
    "        filenames = [\n",
    "            f.path for f in os.scandir(args.image_dir) if f.is_file() and f.path.endswith(('.png', '.jpg'))]\n",
    "        if len(filenames) > num_images:\n",
    "            filenames = filenames[:num_images]\n",
    "\n",
    "        images = {f: posenet.read_imgfile(f, 1.0, output_stride)[0] for f in filenames}\n",
    "\n",
    "        start = time.time()\n",
    "        for i in range(num_images):\n",
    "            heatmaps_result, offsets_result, displacement_fwd_result, displacement_bwd_result = sess.run(\n",
    "                model_outputs,\n",
    "                feed_dict={'image:0': images[filenames[i % len(filenames)]]}\n",
    "            )\n",
    "\n",
    "            output = posenet.decode_multiple_poses(\n",
    "                heatmaps_result.squeeze(axis=0),\n",
    "                offsets_result.squeeze(axis=0),\n",
    "                displacement_fwd_result.squeeze(axis=0),\n",
    "                displacement_bwd_result.squeeze(axis=0),\n",
    "                output_stride=output_stride,\n",
    "                max_pose_detections=10,\n",
    "                min_pose_score=0.25)\n",
    "\n",
    "        print('Average FPS:', num_images / (time.time() - start))"
   ]
  },
  {
   "cell_type": "code",
   "execution_count": 16,
   "metadata": {},
   "outputs": [
    {
     "name": "stdout",
     "output_type": "stream",
     "text": [
      "Average FPS: 3.2730148222840993\n"
     ]
    }
   ],
   "source": [
    "if __name__ == \"__main__\":\n",
    "    main()"
   ]
  },
  {
   "cell_type": "markdown",
   "metadata": {},
   "source": [
    "# webcam_demo"
   ]
  },
  {
   "cell_type": "code",
   "execution_count": 17,
   "metadata": {},
   "outputs": [],
   "source": [
    "import tensorflow as tf\n",
    "import cv2\n",
    "import time\n",
    "import easydict\n",
    "\n",
    "import posenet\n",
    "\n",
    "args = easydict.EasyDict({\n",
    "    \"model\": 101,\n",
    "    \"cam_id\":0,\n",
    "    \"cam_width\":1280,\n",
    "    \"cam_height\":720,\n",
    "    \"scale_factor\":0.7125,\n",
    "    \"file\":None\n",
    "})\n",
    "\n",
    "def main():\n",
    "    with tf.Session() as sess:\n",
    "        model_cfg, model_outputs = posenet.load_model(args.model, sess)\n",
    "        output_stride = model_cfg['output_stride']\n",
    "\n",
    "        if args.file is not None:\n",
    "            cap = cv2.VideoCapture(args.file)\n",
    "        else:\n",
    "            cap = cv2.VideoCapture(args.cam_id)\n",
    "        cap.set(3, args.cam_width)\n",
    "        cap.set(4, args.cam_height)\n",
    "\n",
    "        start = time.time()\n",
    "        frame_count = 0\n",
    "        while True:\n",
    "            input_image, display_image, output_scale = posenet.read_cap(\n",
    "                cap, scale_factor=args.scale_factor, output_stride=output_stride)\n",
    "\n",
    "            heatmaps_result, offsets_result, displacement_fwd_result, displacement_bwd_result = sess.run(\n",
    "                model_outputs,\n",
    "                feed_dict={'image:0': input_image}\n",
    "            )\n",
    "\n",
    "            pose_scores, keypoint_scores, keypoint_coords = posenet.decode_multi.decode_multiple_poses(\n",
    "                heatmaps_result.squeeze(axis=0),\n",
    "                offsets_result.squeeze(axis=0),\n",
    "                displacement_fwd_result.squeeze(axis=0),\n",
    "                displacement_bwd_result.squeeze(axis=0),\n",
    "                output_stride=output_stride,\n",
    "                max_pose_detections=10,\n",
    "                min_pose_score=0.15)\n",
    "\n",
    "            keypoint_coords *= output_scale\n",
    "\n",
    "            # TODO this isn't particularly fast, use GL for drawing and display someday...\n",
    "            overlay_image = posenet.draw_skel_and_kp(\n",
    "                display_image, pose_scores, keypoint_scores, keypoint_coords,\n",
    "                min_pose_score=0.15, min_part_score=0.1)\n",
    "\n",
    "            cv2.imshow('posenet', overlay_image)\n",
    "            frame_count += 1\n",
    "            if cv2.waitKey(1) & 0xFF == ord('q'):\n",
    "                break\n",
    "\n",
    "        print('Average FPS: ', frame_count / (time.time() - start))\n",
    "\n",
    "if __name__ == \"__main__\":\n",
    "    main()"
   ]
  },
  {
   "cell_type": "code",
   "execution_count": null,
   "metadata": {},
   "outputs": [],
   "source": []
  }
 ],
 "metadata": {
  "kernelspec": {
   "display_name": "Python 3",
   "language": "python",
   "name": "python3"
  },
  "language_info": {
   "codemirror_mode": {
    "name": "ipython",
    "version": 3
   },
   "file_extension": ".py",
   "mimetype": "text/x-python",
   "name": "python",
   "nbconvert_exporter": "python",
   "pygments_lexer": "ipython3",
   "version": "3.7.6"
  }
 },
 "nbformat": 4,
 "nbformat_minor": 4
}
